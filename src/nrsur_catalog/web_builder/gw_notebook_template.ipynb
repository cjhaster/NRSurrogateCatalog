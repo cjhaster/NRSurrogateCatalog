{
 "cells": [
  {
   "cell_type": "code",
   "execution_count": null,
   "id": "f96942cd",
   "metadata": {
    "lines_to_next_cell": 2,
    "tags": [
     "hide-cell"
    ]
   },
   "outputs": [],
   "source": [
    "%load_ext autoreload\n",
    "%autoreload 2\n",
    "%matplotlib inline\n",
    "\n",
    "import pandas as pd\n",
    "pd.set_option(\"display.max_rows\", None, \"display.max_columns\", None)\n",
    "\n",
    "! python -m pip install --upgrade pip -q\n",
    "! pip install \"nrsur_catalog @ git+https://github.com/cjhaster/NRSurrogateCatalog@main#egg\" -q"
   ]
  },
  {
   "cell_type": "markdown",
   "id": "71f52de6",
   "metadata": {},
   "source": [
    "# {{GW EVENT NAME}}\n",
    "\n",
    "Below are some plots for {{GW EVENT NAME}} from the NRSurrogate Catalog."
   ]
  },
  {
   "cell_type": "code",
   "execution_count": null,
   "id": "cbefc8c5",
   "metadata": {
    "tags": [
     "remove-output"
    ]
   },
   "outputs": [],
   "source": [
    "from nrsur_catalog import NRsurResult\n",
    "nrsur_result = NRsurResult.load(\"{{GW EVENT NAME}}\")\n",
    "# you can specify a `cache_dir`: folder where data will be downloaded (defaults to \"~/.nrsur_catalog_cache\")"
   ]
  },
  {
   "cell_type": "code",
   "execution_count": null,
   "id": "65f57c7d",
   "metadata": {},
   "outputs": [],
   "source": [
    "nrsur_result.posterior_summary()"
   ]
  },
  {
   "cell_type": "markdown",
   "id": "c7f0b47b",
   "metadata": {},
   "source": [
    "## Corner Plots\n",
    "### Mass"
   ]
  },
  {
   "cell_type": "code",
   "execution_count": null,
   "id": "f59327b0",
   "metadata": {
    "tags": [
     "hide-input"
    ]
   },
   "outputs": [],
   "source": [
    "fig = nrsur_result.plot_corner([\"mass_1\", \"mass_2\", \"chirp_mass\", \"mass_ratio\"])"
   ]
  },
  {
   "cell_type": "markdown",
   "id": "f8309691",
   "metadata": {},
   "source": [
    "### Spin"
   ]
  },
  {
   "cell_type": "code",
   "execution_count": null,
   "id": "a091ead3",
   "metadata": {
    "tags": [
     "hide-input"
    ]
   },
   "outputs": [],
   "source": [
    "fig = nrsur_result.plot_corner([\"a_1\", \"a_2\", \"tilt_1\", \"tilt_2\"])"
   ]
  },
  {
   "cell_type": "code",
   "execution_count": null,
   "id": "96af8edb",
   "metadata": {
    "tags": [
     "hide-input"
    ]
   },
   "outputs": [],
   "source": [
    "fig = nrsur_result.plot_corner([\"mass_ratio\", \"chi_eff\", \"chi_p\"])"
   ]
  },
  {
   "cell_type": "markdown",
   "id": "38c0ac05",
   "metadata": {},
   "source": [
    "### Sky-localisation"
   ]
  },
  {
   "cell_type": "code",
   "execution_count": null,
   "id": "ed1402b1",
   "metadata": {
    "tags": [
     "hide-input"
    ]
   },
   "outputs": [],
   "source": [
    "fig = nrsur_result.plot_corner([\"luminosity_distance\", \"ra\", \"dec\"])"
   ]
  },
  {
   "cell_type": "markdown",
   "id": "8f585506",
   "metadata": {},
   "source": [
    "## Waveform posterior-predictive plot"
   ]
  },
  {
   "cell_type": "code",
   "execution_count": null,
   "id": "5a142775",
   "metadata": {
    "tags": [
     "hide-input"
    ]
   },
   "outputs": [],
   "source": [
    "fig = nrsur_result.plot_signal(outdir=\".\")"
   ]
  },
  {
   "cell_type": "markdown",
   "id": "954a3b45",
   "metadata": {},
   "source": [
    "## Analysis configs\n",
    "Below are the configs used for the analysis of this job."
   ]
  },
  {
   "cell_type": "code",
   "execution_count": null,
   "id": "e9614718",
   "metadata": {
    "tags": [
     "output_scroll"
    ]
   },
   "outputs": [],
   "source": [
    "nrsur_result.print_configs()"
   ]
  },
  {
   "cell_type": "markdown",
   "id": "4e878b05",
   "metadata": {},
   "source": [
    "Download the analysis datafiles with the following (you can specify an outdir)"
   ]
  },
  {
   "cell_type": "code",
   "execution_count": null,
   "id": "4bbf3831",
   "metadata": {},
   "outputs": [],
   "source": [
    "nrsur_result.download_analysis_datafiles()"
   ]
  }
 ],
 "metadata": {
  "celltoolbar": "Tags",
  "jupytext": {
   "formats": "ipynb,py:light"
  },
  "kernelspec": {
   "display_name": "nrsur",
   "language": "python",
   "name": "nrsur"
  },
  "language_info": {
   "codemirror_mode": {
    "name": "ipython",
    "version": 3
   },
   "file_extension": ".py",
   "mimetype": "text/x-python",
   "name": "python",
   "nbconvert_exporter": "python",
   "pygments_lexer": "ipython3",
   "version": "3.9.15"
  },
  "toc": {
   "base_numbering": 1,
   "nav_menu": {},
   "number_sections": true,
   "sideBar": true,
   "skip_h1_title": false,
   "title_cell": "Table of Contents",
   "title_sidebar": "Contents",
   "toc_cell": false,
   "toc_position": {},
   "toc_section_display": true,
   "toc_window_display": true
  },
  "varInspector": {
   "cols": {
    "lenName": 16,
    "lenType": 16,
    "lenVar": 40
   },
   "kernels_config": {
    "python": {
     "delete_cmd_postfix": "",
     "delete_cmd_prefix": "del ",
     "library": "var_list.py",
     "varRefreshCmd": "print(var_dic_list())"
    },
    "r": {
     "delete_cmd_postfix": ") ",
     "delete_cmd_prefix": "rm(",
     "library": "var_list.r",
     "varRefreshCmd": "cat(var_dic_list()) "
    }
   },
   "types_to_exclude": [
    "module",
    "function",
    "builtin_function_or_method",
    "instance",
    "_Feature"
   ],
   "window_display": false
  }
 },
 "nbformat": 4,
 "nbformat_minor": 5
}
