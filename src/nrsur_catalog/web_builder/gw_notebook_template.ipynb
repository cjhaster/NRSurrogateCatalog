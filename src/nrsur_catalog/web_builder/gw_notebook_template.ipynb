{
 "cells": [
  {
   "cell_type": "code",
   "execution_count": null,
   "id": "7c5829d7",
   "metadata": {
    "ExecuteTime": {
     "end_time": "2023-02-15T04:11:58.396694Z",
     "start_time": "2023-02-15T04:11:58.396674Z"
    },
    "lines_to_next_cell": 2,
    "tags": [
     "hide-input"
    ]
   },
   "outputs": [],
   "source": [
    "%load_ext autoreload\n",
    "%autoreload 2\n",
    "%matplotlib inline"
   ]
  },
  {
   "cell_type": "code",
   "execution_count": null,
   "id": "1c2c00c7",
   "metadata": {},
   "outputs": [],
   "source": [
    "import pandas as pd\n",
    "pd.set_option(\"display.max_rows\", None, \"display.max_columns\", None)"
   ]
  },
  {
   "cell_type": "code",
   "execution_count": null,
   "id": "0b8c4875",
   "metadata": {
    "ExecuteTime": {
     "end_time": "2023-02-15T04:24:22.409371Z",
     "start_time": "2023-02-15T04:23:55.744000Z"
    }
   },
   "outputs": [],
   "source": [
    "! python -m pip install --upgrade pip\n",
    "# ! pip install nrsur_catalog -q\n",
    "! pip install -e \"git+https://github.com/avivajpeyi/NRSurCatalog@website#egg=nrsur_catalog&subdirectory=nrsur_catalog\""
   ]
  },
  {
   "cell_type": "markdown",
   "id": "70d7adde",
   "metadata": {},
   "source": [
    "# {{GW EVENT NAME}}\n",
    "\n",
    "Below are some plots for {{GW EVENT NAME}} from the NRSurrogate Catalog."
   ]
  },
  {
   "cell_type": "code",
   "execution_count": null,
   "id": "ce023413",
   "metadata": {},
   "outputs": [],
   "source": [
    "from nrsur_catalog import NRsurResult\n",
    "nrsur_result = NRsurResult.load(\"{{GW EVENT NAME}}\", cache_dir=None) \n",
    "# cache_dir is where the fits will be downloaded to (defaults to \"~/.nrsur_catalog_cache\")\n",
    "nrsur_result.posterior_summary()"
   ]
  },
  {
   "cell_type": "code",
   "execution_count": null,
   "id": "0b7765a5",
   "metadata": {
    "tags": [
     "hide-input"
    ]
   },
   "outputs": [],
   "source": [
    "fig = nrsur_result.plot_corner([\"mass_1\", \"mass_2\", \"chirp_mass\", \"mass_ratio\"])"
   ]
  },
  {
   "cell_type": "code",
   "execution_count": null,
   "id": "2f1147f7",
   "metadata": {
    "tags": [
     "hide-input"
    ]
   },
   "outputs": [],
   "source": [
    "fig = nrsur_result.plot_corner([\"a_1\", \"a_2\", \"tilt_1\", \"tilt_2\"])"
   ]
  },
  {
   "cell_type": "code",
   "execution_count": null,
   "id": "0813356a",
   "metadata": {
    "tags": [
     "hide-input"
    ]
   },
   "outputs": [],
   "source": [
    "fig = nrsur_result.plot_corner([\"mass_ratio\", \"chi_eff\", \"chi_p\"])"
   ]
  },
  {
   "cell_type": "code",
   "execution_count": null,
   "id": "cb4dd73e",
   "metadata": {
    "tags": [
     "hide-input"
    ]
   },
   "outputs": [],
   "source": [
    "fig = nrsur_result.plot_signal(outdir=\".\")"
   ]
  }
 ],
 "metadata": {
  "jupytext": {
   "formats": "ipynb,py:light"
  },
  "kernelspec": {
   "display_name": "nrsur",
   "language": "python",
   "name": "nrsur"
  },
  "language_info": {
   "codemirror_mode": {
    "name": "ipython",
    "version": 3
   },
   "file_extension": ".py",
   "mimetype": "text/x-python",
   "name": "python",
   "nbconvert_exporter": "python",
   "pygments_lexer": "ipython3",
   "version": "3.9.15"
  },
  "toc": {
   "base_numbering": 1,
   "nav_menu": {},
   "number_sections": true,
   "sideBar": true,
   "skip_h1_title": false,
   "title_cell": "Table of Contents",
   "title_sidebar": "Contents",
   "toc_cell": false,
   "toc_position": {},
   "toc_section_display": true,
   "toc_window_display": true
  },
  "varInspector": {
   "cols": {
    "lenName": 16,
    "lenType": 16,
    "lenVar": 40
   },
   "kernels_config": {
    "python": {
     "delete_cmd_postfix": "",
     "delete_cmd_prefix": "del ",
     "library": "var_list.py",
     "varRefreshCmd": "print(var_dic_list())"
    },
    "r": {
     "delete_cmd_postfix": ") ",
     "delete_cmd_prefix": "rm(",
     "library": "var_list.r",
     "varRefreshCmd": "cat(var_dic_list()) "
    }
   },
   "types_to_exclude": [
    "module",
    "function",
    "builtin_function_or_method",
    "instance",
    "_Feature"
   ],
   "window_display": false
  }
 },
 "nbformat": 4,
 "nbformat_minor": 5
}
